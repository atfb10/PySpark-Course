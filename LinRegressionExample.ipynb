{
 "cells": [
  {
   "cell_type": "code",
   "execution_count": 7,
   "id": "d7080610-63cc-4b9a-8e51-4a733690bc4b",
   "metadata": {},
   "outputs": [],
   "source": [
    "import findspark\n",
    "findspark.init('/home/aforestier10/Downloads/spark-3.5.3-bin-hadoop3')\n",
    "import pyspark\n",
    "from pyspark.sql import SparkSession\n",
    "spark = SparkSession.builder.appName('LinReg').getOrCreate()\n",
    "spark.sparkContext.setLogLevel(\"ERROR\")"
   ]
  },
  {
   "cell_type": "code",
   "execution_count": 2,
   "id": "a4623ac4-6e54-4e76-970c-b9bc06ead131",
   "metadata": {},
   "outputs": [],
   "source": [
    "from pyspark.ml.regression import LinearRegression"
   ]
  },
  {
   "cell_type": "code",
   "execution_count": 3,
   "id": "2701d4a2-75bf-42c2-b89e-14ebd216f9f6",
   "metadata": {},
   "outputs": [
    {
     "name": "stderr",
     "output_type": "stream",
     "text": [
      "                                                                                \r"
     ]
    }
   ],
   "source": [
    "data = spark.read.csv('Ecommerce_Customers.csv', inferSchema=True, header=True)"
   ]
  },
  {
   "cell_type": "code",
   "execution_count": 4,
   "id": "65f27b16-e2bd-497b-8585-87d1fa1fabda",
   "metadata": {},
   "outputs": [
    {
     "name": "stdout",
     "output_type": "stream",
     "text": [
      "root\n",
      " |-- Email: string (nullable = true)\n",
      " |-- Address: string (nullable = true)\n",
      " |-- Avatar: string (nullable = true)\n",
      " |-- Avg Session Length: double (nullable = true)\n",
      " |-- Time on App: double (nullable = true)\n",
      " |-- Time on Website: double (nullable = true)\n",
      " |-- Length of Membership: double (nullable = true)\n",
      " |-- Yearly Amount Spent: double (nullable = true)\n",
      "\n"
     ]
    }
   ],
   "source": [
    "data.printSchema()"
   ]
  },
  {
   "cell_type": "code",
   "execution_count": 6,
   "id": "c5dbc993-ecea-4dee-930b-dffb8b93b540",
   "metadata": {},
   "outputs": [
    {
     "name": "stdout",
     "output_type": "stream",
     "text": [
      "mstephenson@fernandez.com\n",
      "835 Frank TunnelWrightmouth, MI 82180-9605\n",
      "Violet\n",
      "34.49726772511229\n",
      "12.65565114916675\n",
      "39.57766801952616\n",
      "4.0826206329529615\n",
      "587.9510539684005\n"
     ]
    }
   ],
   "source": [
    "for item in data.head(1)[0]:\n",
    "    print(item)"
   ]
  },
  {
   "cell_type": "code",
   "execution_count": 8,
   "id": "3b701025-ec73-4f10-b002-10ac0617e946",
   "metadata": {},
   "outputs": [],
   "source": [
    "# Setup data - imports\n",
    "from pyspark.ml.linalg import Vectors\n",
    "from pyspark.ml.feature import VectorAssembler"
   ]
  },
  {
   "cell_type": "code",
   "execution_count": 12,
   "id": "c59eff45-c65f-4a7a-b296-24d271bb5cef",
   "metadata": {},
   "outputs": [],
   "source": [
    "# Create assembler object pf only useful feature columns (single vector of features)\n",
    "features = ['Avg Session Length', 'Time on App', 'Time on Website', 'Length of Membership']\n",
    "assembler = VectorAssembler(inputCols=features, outputCol='features')"
   ]
  },
  {
   "cell_type": "code",
   "execution_count": 14,
   "id": "8bc1a7dc-2477-4d60-8d6b-be8a5dc8ccf0",
   "metadata": {},
   "outputs": [
    {
     "data": {
      "text/plain": [
       "[Row(Email='mstephenson@fernandez.com', Address='835 Frank TunnelWrightmouth, MI 82180-9605', Avatar='Violet', Avg Session Length=34.49726772511229, Time on App=12.65565114916675, Time on Website=39.57766801952616, Length of Membership=4.0826206329529615, Yearly Amount Spent=587.9510539684005, features=DenseVector([34.4973, 12.6557, 39.5777, 4.0826]))]"
      ]
     },
     "execution_count": 14,
     "metadata": {},
     "output_type": "execute_result"
    }
   ],
   "source": [
    "# Transform data\n",
    "output = assembler.transform(data)\n",
    "output.head(1)"
   ]
  },
  {
   "cell_type": "code",
   "execution_count": 15,
   "id": "90633223-9cb0-4eed-a165-43bcb90593f5",
   "metadata": {},
   "outputs": [],
   "source": [
    "final_data = output.select('features', 'Yearly Amount Spent')"
   ]
  },
  {
   "cell_type": "code",
   "execution_count": 16,
   "id": "b53b0ddc-f518-4498-b987-52045c01433e",
   "metadata": {},
   "outputs": [],
   "source": [
    "# Split data\n",
    "train_data, test_data = final_data.randomSplit([.7, .3])"
   ]
  },
  {
   "cell_type": "code",
   "execution_count": 17,
   "id": "d6243712-703a-4358-af54-2e98a95537d1",
   "metadata": {},
   "outputs": [
    {
     "name": "stderr",
     "output_type": "stream",
     "text": [
      "[Stage 5:===========================================================(1 + 0) / 1]\r"
     ]
    },
    {
     "name": "stdout",
     "output_type": "stream",
     "text": [
      "+-------+-------------------+\n",
      "|summary|Yearly Amount Spent|\n",
      "+-------+-------------------+\n",
      "|  count|                354|\n",
      "|   mean|  498.5686419113297|\n",
      "| stddev|  81.07980014987743|\n",
      "|    min| 256.67058229005585|\n",
      "|    max|  744.2218671047146|\n",
      "+-------+-------------------+\n",
      "\n"
     ]
    },
    {
     "name": "stderr",
     "output_type": "stream",
     "text": [
      "                                                                                \r"
     ]
    }
   ],
   "source": [
    "train_data.describe().show()"
   ]
  },
  {
   "cell_type": "code",
   "execution_count": 18,
   "id": "ccbfaa60-c9bb-4166-a883-0c24a67cee7b",
   "metadata": {},
   "outputs": [
    {
     "name": "stderr",
     "output_type": "stream",
     "text": [
      "[Stage 8:>                                                          (0 + 1) / 1]\r"
     ]
    },
    {
     "name": "stdout",
     "output_type": "stream",
     "text": [
      "+-------+-------------------+\n",
      "|summary|Yearly Amount Spent|\n",
      "+-------+-------------------+\n",
      "|  count|                146|\n",
      "|   mean| 501.12136912797735|\n",
      "| stddev|  75.10242033635794|\n",
      "|    min|  275.9184206503857|\n",
      "|    max|  765.5184619388373|\n",
      "+-------+-------------------+\n",
      "\n"
     ]
    },
    {
     "name": "stderr",
     "output_type": "stream",
     "text": [
      "                                                                                \r"
     ]
    }
   ],
   "source": [
    "test_data.describe().show()"
   ]
  },
  {
   "cell_type": "code",
   "execution_count": 19,
   "id": "83a164f3-ade6-4067-a75a-8332a5fa9fac",
   "metadata": {},
   "outputs": [],
   "source": [
    "# Create model\n",
    "lr = LinearRegression(featuresCol='features', labelCol='Yearly Amount Spent', predictionCol='prediction')"
   ]
  },
  {
   "cell_type": "code",
   "execution_count": 20,
   "id": "0ea0c050-4615-4d57-91ca-4250f0cac895",
   "metadata": {},
   "outputs": [
    {
     "name": "stderr",
     "output_type": "stream",
     "text": [
      "                                                                                \r"
     ]
    }
   ],
   "source": [
    "# Fit model\n",
    "lr_model = lr.fit(train_data)"
   ]
  },
  {
   "cell_type": "code",
   "execution_count": 21,
   "id": "4075d7ed-85e3-4832-b3c5-9fc97cde08a1",
   "metadata": {},
   "outputs": [],
   "source": [
    "# Results\n",
    "test_results = lr_model.evaluate(test_data)"
   ]
  },
  {
   "cell_type": "code",
   "execution_count": 22,
   "id": "88760dba-c638-4ec8-8e29-b9f4f0d65b54",
   "metadata": {},
   "outputs": [
    {
     "name": "stdout",
     "output_type": "stream",
     "text": [
      "+-------------------+\n",
      "|          residuals|\n",
      "+-------------------+\n",
      "| 11.064818010774957|\n",
      "|  5.534266631760033|\n",
      "| -5.833387800921912|\n",
      "|-0.5280723853314839|\n",
      "| 4.3380042075854135|\n",
      "|-3.4010669843090113|\n",
      "| -26.19535813525465|\n",
      "| 2.5675045114929276|\n",
      "| -1.988382033865605|\n",
      "| -5.319961950053937|\n",
      "| -17.03767626913242|\n",
      "|  11.64379213088057|\n",
      "| 12.290278611485803|\n",
      "| -13.54160767728331|\n",
      "| -5.751358343606739|\n",
      "| -3.687884176613693|\n",
      "|  5.556793664737597|\n",
      "|0.45599357608119817|\n",
      "|  4.794327422939318|\n",
      "| 0.8684816672741817|\n",
      "+-------------------+\n",
      "only showing top 20 rows\n",
      "\n"
     ]
    }
   ],
   "source": [
    "# See residuals\n",
    "test_results.residuals.show()"
   ]
  },
  {
   "cell_type": "code",
   "execution_count": 24,
   "id": "6bce8ae9-2fcb-4b0d-a1ce-c10262fade73",
   "metadata": {},
   "outputs": [
    {
     "data": {
      "text/plain": [
       "9.985459531660368"
      ]
     },
     "execution_count": 24,
     "metadata": {},
     "output_type": "execute_result"
    }
   ],
   "source": [
    "# See rmse\n",
    "test_results.rootMeanSquaredError"
   ]
  },
  {
   "cell_type": "code",
   "execution_count": 25,
   "id": "4f82d802-bbcc-4fb1-aa04-c192bebf6f95",
   "metadata": {},
   "outputs": [
    {
     "data": {
      "text/plain": [
       "0.9822002829443173"
      ]
     },
     "execution_count": 25,
     "metadata": {},
     "output_type": "execute_result"
    }
   ],
   "source": [
    "# See r^2\n",
    "test_results.r2"
   ]
  },
  {
   "cell_type": "code",
   "execution_count": 26,
   "id": "384023c8-91f2-488f-9be1-6e58a97c7f5e",
   "metadata": {},
   "outputs": [
    {
     "name": "stdout",
     "output_type": "stream",
     "text": [
      "+-------+-------------------+\n",
      "|summary|Yearly Amount Spent|\n",
      "+-------+-------------------+\n",
      "|  count|                500|\n",
      "|   mean|  499.3140382585909|\n",
      "| stddev|   79.3147815497068|\n",
      "|    min| 256.67058229005585|\n",
      "|    max|  765.5184619388373|\n",
      "+-------+-------------------+\n",
      "\n"
     ]
    }
   ],
   "source": [
    "# See stats on data to see how these values are\n",
    "final_data.describe().show()"
   ]
  },
  {
   "cell_type": "markdown",
   "id": "37ed9687-ef2f-4df4-a38d-106563e8a528",
   "metadata": {},
   "source": [
    "* pretty good! 500 avg spent and rmse is only 10!\n",
    "* R^2 says model explains 98% of variance in the data!"
   ]
  },
  {
   "cell_type": "markdown",
   "id": "64f9150d-5e09-4827-ba76-80561ccc2b9b",
   "metadata": {},
   "source": [
    "### How to deploy"
   ]
  },
  {
   "cell_type": "code",
   "execution_count": 27,
   "id": "f579ad5d-e81e-4f93-9c57-623fc83ba3a5",
   "metadata": {},
   "outputs": [],
   "source": [
    "unlabeled_data = test_data.select('features')"
   ]
  },
  {
   "cell_type": "code",
   "execution_count": 28,
   "id": "c3dbed5f-6576-456d-9512-9b1c6e37b6cc",
   "metadata": {},
   "outputs": [],
   "source": [
    "y_pred = lr_model.transform(unlabeled_data)"
   ]
  },
  {
   "cell_type": "code",
   "execution_count": 29,
   "id": "39c911fd-8346-43c7-a89b-32138183256f",
   "metadata": {},
   "outputs": [
    {
     "name": "stdout",
     "output_type": "stream",
     "text": [
      "+--------------------+------------------+\n",
      "|            features|        prediction|\n",
      "+--------------------+------------------+\n",
      "|[30.7377203726281...| 450.7159241854549|\n",
      "|[31.0472221394875...|386.96313255726136|\n",
      "|[31.0613251567161...| 493.3888458588235|\n",
      "|[31.2606468698795...|421.85470364228286|\n",
      "|[31.3662121671876...| 426.2508783488995|\n",
      "|[31.5171218025062...| 279.3194876346947|\n",
      "|[31.6739155032749...|501.92042604513586|\n",
      "|[31.7366356860502...|  494.365941744039|\n",
      "|[31.8627411090001...| 558.2865232079123|\n",
      "|[31.8745516945853...|397.60520619632143|\n",
      "|[31.9048571310136...|490.98753369194856|\n",
      "|[31.9096268275227...| 551.8022435423586|\n",
      "|[31.9262720263601...| 379.9146548328406|\n",
      "|[31.9365486184489...| 440.7409925726115|\n",
      "|[31.9453957483445...| 662.7712822812587|\n",
      "|[31.9673209478824...|449.43772541626595|\n",
      "|[31.9764800614612...| 325.0376523693626|\n",
      "|[32.0047530203648...|463.28998754454824|\n",
      "|[32.0215955013870...| 516.7778473348881|\n",
      "|[32.0444861274404...| 447.3613475192758|\n",
      "+--------------------+------------------+\n",
      "only showing top 20 rows\n",
      "\n"
     ]
    }
   ],
   "source": [
    "y_pred.show()"
   ]
  },
  {
   "cell_type": "markdown",
   "id": "d52b19a6-ca63-42e7-a1bd-d0b77a0f5fa2",
   "metadata": {},
   "source": [
    "Above shows predicted price spent based on feature inputs"
   ]
  }
 ],
 "metadata": {
  "kernelspec": {
   "display_name": "Python 3 (ipykernel)",
   "language": "python",
   "name": "python3"
  },
  "language_info": {
   "codemirror_mode": {
    "name": "ipython",
    "version": 3
   },
   "file_extension": ".py",
   "mimetype": "text/x-python",
   "name": "python",
   "nbconvert_exporter": "python",
   "pygments_lexer": "ipython3",
   "version": "3.12.3"
  }
 },
 "nbformat": 4,
 "nbformat_minor": 5
}
