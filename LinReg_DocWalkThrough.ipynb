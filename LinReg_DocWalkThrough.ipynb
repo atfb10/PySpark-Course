{
 "cells": [
  {
   "cell_type": "markdown",
   "id": "db2444d2-f0a3-497a-a74f-eb4efa383cf5",
   "metadata": {},
   "source": [
    "# Linear Regression w/ Spark & MLlib"
   ]
  },
  {
   "cell_type": "code",
   "execution_count": 19,
   "id": "d8916edd-4568-4141-a5f5-c140bb9d0d3c",
   "metadata": {},
   "outputs": [],
   "source": [
    "import findspark\n",
    "findspark.init('/home/aforestier10/Downloads/spark-3.5.3-bin-hadoop3')\n",
    "import pyspark\n",
    "from pyspark.sql import SparkSession\n",
    "spark = SparkSession.builder.appName('LinReg').getOrCreate()\n",
    "spark.sparkContext.setLogLevel(\"ERROR\")"
   ]
  },
  {
   "cell_type": "code",
   "execution_count": 20,
   "id": "6e504d35-c981-46c8-8b9a-bde6a0ff7f61",
   "metadata": {},
   "outputs": [],
   "source": [
    "#import model\n",
    "from pyspark.ml.regression import LinearRegression"
   ]
  },
  {
   "cell_type": "code",
   "execution_count": 21,
   "id": "625441f8-dadb-4d22-a000-87a5e7e4fbbb",
   "metadata": {},
   "outputs": [
    {
     "name": "stderr",
     "output_type": "stream",
     "text": [
      "                                                                                \r"
     ]
    }
   ],
   "source": [
    "### Load data\n",
    "training = spark.read.format('libsvm').load('sample_linear_regression_data.txt')"
   ]
  },
  {
   "cell_type": "markdown",
   "id": "3769250c-36ba-46c3-8a34-b7ca003a6c0f",
   "metadata": {},
   "source": [
    "## Build a very simple model"
   ]
  },
  {
   "cell_type": "code",
   "execution_count": 22,
   "id": "35084a97-70a6-4532-b42f-6db3ecdb601a",
   "metadata": {},
   "outputs": [
    {
     "name": "stdout",
     "output_type": "stream",
     "text": [
      "+-------------------+--------------------+\n",
      "|              label|            features|\n",
      "+-------------------+--------------------+\n",
      "| -9.490009878824548|(10,[0,1,2,3,4,5,...|\n",
      "| 0.2577820163584905|(10,[0,1,2,3,4,5,...|\n",
      "| -4.438869807456516|(10,[0,1,2,3,4,5,...|\n",
      "|-19.782762789614537|(10,[0,1,2,3,4,5,...|\n",
      "| -7.966593841555266|(10,[0,1,2,3,4,5,...|\n",
      "| -7.896274316726144|(10,[0,1,2,3,4,5,...|\n",
      "| -8.464803554195287|(10,[0,1,2,3,4,5,...|\n",
      "| 2.1214592666251364|(10,[0,1,2,3,4,5,...|\n",
      "| 1.0720117616524107|(10,[0,1,2,3,4,5,...|\n",
      "|-13.772441561702871|(10,[0,1,2,3,4,5,...|\n",
      "| -5.082010756207233|(10,[0,1,2,3,4,5,...|\n",
      "|  7.887786536531237|(10,[0,1,2,3,4,5,...|\n",
      "| 14.323146365332388|(10,[0,1,2,3,4,5,...|\n",
      "|-20.057482615789212|(10,[0,1,2,3,4,5,...|\n",
      "|-0.8995693247765151|(10,[0,1,2,3,4,5,...|\n",
      "| -19.16829262296376|(10,[0,1,2,3,4,5,...|\n",
      "|  5.601801561245534|(10,[0,1,2,3,4,5,...|\n",
      "|-3.2256352187273354|(10,[0,1,2,3,4,5,...|\n",
      "| 1.5299675726687754|(10,[0,1,2,3,4,5,...|\n",
      "| -0.250102447941961|(10,[0,1,2,3,4,5,...|\n",
      "+-------------------+--------------------+\n",
      "only showing top 20 rows\n",
      "\n"
     ]
    }
   ],
   "source": [
    "# Spark must be in only 2 columns for models. 1 label and features column\n",
    "training.show()"
   ]
  },
  {
   "cell_type": "code",
   "execution_count": 23,
   "id": "aaf18fe8-6468-473c-8ec8-04f384d9a114",
   "metadata": {},
   "outputs": [],
   "source": [
    "# instantiate model object\n",
    "model = LinearRegression(featuresCol='features', labelCol='label', predictionCol='my_model_predictions')"
   ]
  },
  {
   "cell_type": "code",
   "execution_count": 24,
   "id": "93180607-3df7-4072-9629-84cc1c08a7e1",
   "metadata": {},
   "outputs": [],
   "source": [
    "# fit model\n",
    "lr_model = model.fit(training)"
   ]
  },
  {
   "cell_type": "code",
   "execution_count": 25,
   "id": "36bdb407-0e51-4bfb-ad78-29bb7f78c1b1",
   "metadata": {},
   "outputs": [
    {
     "data": {
      "text/plain": [
       "DenseVector([0.0073, 0.8314, -0.8095, 2.4412, 0.5192, 1.1535, -0.2989, -0.5129, -0.6197, 0.6956])"
      ]
     },
     "execution_count": 25,
     "metadata": {},
     "output_type": "execute_result"
    }
   ],
   "source": [
    "# show some attributes\n",
    "lr_model.coefficients"
   ]
  },
  {
   "cell_type": "code",
   "execution_count": 26,
   "id": "7eb0c5d2-9ee2-4913-b040-c521f2b56bad",
   "metadata": {},
   "outputs": [
    {
     "data": {
      "text/plain": [
       "0.14228558260358093"
      ]
     },
     "execution_count": 26,
     "metadata": {},
     "output_type": "execute_result"
    }
   ],
   "source": [
    "lr_model.intercept"
   ]
  },
  {
   "cell_type": "code",
   "execution_count": 27,
   "id": "4872d96c-0ee2-4eaf-96af-01c3088c0ecc",
   "metadata": {},
   "outputs": [],
   "source": [
    "# use training summary to call key methods and attributes\n",
    "training_summary = lr_model.summary"
   ]
  },
  {
   "cell_type": "code",
   "execution_count": 28,
   "id": "ce5c1e84-9c64-4303-ad28-c30b84a06d3b",
   "metadata": {},
   "outputs": [
    {
     "data": {
      "text/plain": [
       "(0.027839179518600154, 10.16309157133015)"
      ]
     },
     "execution_count": 28,
     "metadata": {},
     "output_type": "execute_result"
    }
   ],
   "source": [
    "training_summary.r2, training_summary.rootMeanSquaredError"
   ]
  },
  {
   "cell_type": "code",
   "execution_count": 29,
   "id": "56cfa5a1-6579-4e57-9412-04390112a6a8",
   "metadata": {},
   "outputs": [],
   "source": [
    "# Actually split into train, test, split\n",
    "data = spark.read.format('libsvm').load('sample_linear_regression_data.txt')\n",
    "train_data, test_data = data.randomSplit([.7, .3])"
   ]
  },
  {
   "cell_type": "code",
   "execution_count": 30,
   "id": "f5c97e4b-eedf-4ca2-a36b-cfd08d691d95",
   "metadata": {},
   "outputs": [
    {
     "name": "stdout",
     "output_type": "stream",
     "text": [
      "+-------+-------------------+\n",
      "|summary|              label|\n",
      "+-------+-------------------+\n",
      "|  count|                354|\n",
      "|   mean| 0.8072096920319102|\n",
      "| stddev| 10.387608867929963|\n",
      "|    min|-28.571478869743427|\n",
      "|    max|  27.78383192005107|\n",
      "+-------+-------------------+\n",
      "\n",
      "+-------+-------------------+\n",
      "|summary|              label|\n",
      "+-------+-------------------+\n",
      "|  count|                147|\n",
      "|   mean| -1.068373680677591|\n",
      "| stddev| 10.059556471892726|\n",
      "|    min|-28.046018037776633|\n",
      "|    max| 26.903524792043335|\n",
      "+-------+-------------------+\n",
      "\n"
     ]
    },
    {
     "data": {
      "text/plain": [
       "(None, None)"
      ]
     },
     "execution_count": 30,
     "metadata": {},
     "output_type": "execute_result"
    }
   ],
   "source": [
    "train_data.describe().show(), test_data.describe().show()"
   ]
  },
  {
   "cell_type": "code",
   "execution_count": 31,
   "id": "96279031-05fc-4f55-b4ae-8c799bea91a6",
   "metadata": {},
   "outputs": [],
   "source": [
    "# Now make model\n",
    "base = LinearRegression(featuresCol='features', labelCol='label', predictionCol='my_predictions')\n",
    "lr_model = base.fit(train_data)"
   ]
  },
  {
   "cell_type": "code",
   "execution_count": 32,
   "id": "29f31a25-1355-4bc1-a46b-d72c1b122a41",
   "metadata": {},
   "outputs": [],
   "source": [
    "# Evaluate model\n",
    "results = lr_model.evaluate(test_data)"
   ]
  },
  {
   "cell_type": "code",
   "execution_count": 33,
   "id": "16fdc407-f05f-4c56-bcb6-4d66e2f3fcec",
   "metadata": {},
   "outputs": [
    {
     "name": "stdout",
     "output_type": "stream",
     "text": [
      "+-------------------+\n",
      "|          residuals|\n",
      "+-------------------+\n",
      "|-28.345748237830676|\n",
      "| -24.02172473713055|\n",
      "|-26.167282374698473|\n",
      "|-20.311888308422922|\n",
      "|-21.639654505695756|\n",
      "|-21.354648434486172|\n",
      "|-21.783744333213125|\n",
      "| -20.06051186822888|\n",
      "| -17.43712684760353|\n",
      "| -19.41830393150117|\n",
      "|-15.537844903112127|\n",
      "| -16.72956778506602|\n",
      "|-13.024918838818882|\n",
      "|-17.515576846886447|\n",
      "|-13.196149167020742|\n",
      "| -16.75192211858612|\n",
      "|-14.193691540420028|\n",
      "|-14.076361860984653|\n",
      "|-12.390582077370933|\n",
      "|-11.143446572387965|\n",
      "+-------------------+\n",
      "only showing top 20 rows\n",
      "\n"
     ]
    },
    {
     "data": {
      "text/plain": [
       "(None, 10.2188915489845)"
      ]
     },
     "execution_count": 33,
     "metadata": {},
     "output_type": "execute_result"
    }
   ],
   "source": [
    "results.residuals.show(), results.rootMeanSquaredError"
   ]
  },
  {
   "cell_type": "markdown",
   "id": "80539d91-6864-47cd-a845-91bf64844c16",
   "metadata": {},
   "source": [
    "Improve model through tweaking model parameters when initializing object"
   ]
  },
  {
   "cell_type": "code",
   "execution_count": 34,
   "id": "2f2bf4ca-be0a-48a8-9c57-4bdb214e249e",
   "metadata": {},
   "outputs": [],
   "source": [
    "unlabeled_data = test_data.select('features')"
   ]
  },
  {
   "cell_type": "code",
   "execution_count": 35,
   "id": "f7413769-ddcf-4bf2-83b9-247bc1f3af6a",
   "metadata": {},
   "outputs": [
    {
     "name": "stdout",
     "output_type": "stream",
     "text": [
      "+--------------------+--------------------+\n",
      "|            features|      my_predictions|\n",
      "+--------------------+--------------------+\n",
      "|(10,[0,1,2,3,4,5,...|  0.2997302000540432|\n",
      "|(10,[0,1,2,3,4,5,...|  0.5342846161940393|\n",
      "|(10,[0,1,2,3,4,5,...|  3.2174564385023974|\n",
      "|(10,[0,1,2,3,4,5,...|   -2.52557210849642|\n",
      "|(10,[0,1,2,3,4,5,...|  1.5821718899065438|\n",
      "|(10,[0,1,2,3,4,5,...|  1.4700876602127464|\n",
      "|(10,[0,1,2,3,4,5,...|   2.000981543598587|\n",
      "|(10,[0,1,2,3,4,5,...|  1.7852983022242477|\n",
      "|(10,[0,1,2,3,4,5,...| 0.11040611492758101|\n",
      "|(10,[0,1,2,3,4,5,...|  3.1568736560484387|\n",
      "|(10,[0,1,2,3,4,5,...| -0.4136676626824456|\n",
      "|(10,[0,1,2,3,4,5,...|   1.370022905233344|\n",
      "|(10,[0,1,2,3,4,5,...| -1.7378394141122435|\n",
      "|(10,[0,1,2,3,4,5,...|   3.186598337811003|\n",
      "|(10,[0,1,2,3,4,5,...| -0.6709387281380252|\n",
      "|(10,[0,1,2,3,4,5,...|  3.8296990152156996|\n",
      "|(10,[0,1,2,3,4,5,...|  1.6351157515638401|\n",
      "|(10,[0,1,2,3,4,5,...|  1.5755880756295984|\n",
      "|(10,[0,1,2,3,4,5,...|-0.08869813408056526|\n",
      "|(10,[0,1,2,3,4,5,...| -1.3242098086448952|\n",
      "+--------------------+--------------------+\n",
      "only showing top 20 rows\n",
      "\n"
     ]
    }
   ],
   "source": [
    "# How to show predictions based on the features\n",
    "y_pred = lr_model.transform(unlabeled_data)\n",
    "y_pred.show()"
   ]
  }
 ],
 "metadata": {
  "kernelspec": {
   "display_name": "Python 3 (ipykernel)",
   "language": "python",
   "name": "python3"
  },
  "language_info": {
   "codemirror_mode": {
    "name": "ipython",
    "version": 3
   },
   "file_extension": ".py",
   "mimetype": "text/x-python",
   "name": "python",
   "nbconvert_exporter": "python",
   "pygments_lexer": "ipython3",
   "version": "3.12.3"
  }
 },
 "nbformat": 4,
 "nbformat_minor": 5
}
