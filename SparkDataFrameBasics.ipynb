{
 "cells": [
  {
   "cell_type": "markdown",
   "id": "714ca719-4917-4f41-8092-b68f4f03a5e4",
   "metadata": {},
   "source": [
    "# Introduction to Spark"
   ]
  },
  {
   "cell_type": "code",
   "execution_count": 1,
   "id": "44e2fcd6-0a9e-4c16-83cf-69a7e0561864",
   "metadata": {},
   "outputs": [],
   "source": [
    "import findspark"
   ]
  },
  {
   "cell_type": "code",
   "execution_count": 2,
   "id": "937c525f-5e0b-40e6-9f86-729e34c5d085",
   "metadata": {},
   "outputs": [],
   "source": [
    "findspark.init('/home/aforestier10/Downloads/spark-3.5.3-bin-hadoop3')"
   ]
  },
  {
   "cell_type": "code",
   "execution_count": 3,
   "id": "6846c3df-1ea9-4234-b4d0-352ecce74538",
   "metadata": {},
   "outputs": [],
   "source": [
    "import pyspark"
   ]
  },
  {
   "cell_type": "code",
   "execution_count": 4,
   "id": "2c04c4ca-d176-4b76-bd12-69aefc4ea152",
   "metadata": {},
   "outputs": [],
   "source": [
    "from pyspark.sql import SparkSession"
   ]
  },
  {
   "cell_type": "code",
   "execution_count": 8,
   "id": "f859f07b-2cf8-4be3-8b1c-f692890cb9f0",
   "metadata": {},
   "outputs": [],
   "source": [
    "spark = SparkSession.builder.appName('Basics').getOrCreate()\n",
    "spark.sparkContext.setLogLevel(\"ERROR\")"
   ]
  },
  {
   "cell_type": "markdown",
   "id": "9ce8b3e1-0400-4c31-b089-6f6f7a10c951",
   "metadata": {},
   "source": [
    "## The Basics"
   ]
  },
  {
   "cell_type": "code",
   "execution_count": 9,
   "id": "5fe2e5a1-78f7-4d64-a790-07544bcafd62",
   "metadata": {},
   "outputs": [],
   "source": [
    "df = spark.read.json('people.json')"
   ]
  },
  {
   "cell_type": "code",
   "execution_count": 12,
   "id": "8b0e2926-7925-4d08-9f41-aa765eab3598",
   "metadata": {},
   "outputs": [
    {
     "name": "stdout",
     "output_type": "stream",
     "text": [
      "+----+-------+\n",
      "| age|   name|\n",
      "+----+-------+\n",
      "|NULL|Michael|\n",
      "|  30|   Andy|\n",
      "|  19| Justin|\n",
      "+----+-------+\n",
      "\n"
     ]
    }
   ],
   "source": [
    "df.show()"
   ]
  },
  {
   "cell_type": "code",
   "execution_count": 13,
   "id": "5a9c579c-4a3c-451d-9796-3ba3ba584256",
   "metadata": {},
   "outputs": [
    {
     "name": "stdout",
     "output_type": "stream",
     "text": [
      "root\n",
      " |-- age: long (nullable = true)\n",
      " |-- name: string (nullable = true)\n",
      "\n"
     ]
    }
   ],
   "source": [
    "df.printSchema()"
   ]
  },
  {
   "cell_type": "code",
   "execution_count": 15,
   "id": "b12af0ec-d461-4d02-9153-666db8a279e0",
   "metadata": {},
   "outputs": [
    {
     "data": {
      "text/plain": [
       "['age', 'name']"
      ]
     },
     "execution_count": 15,
     "metadata": {},
     "output_type": "execute_result"
    }
   ],
   "source": [
    "df.columns"
   ]
  },
  {
   "cell_type": "code",
   "execution_count": 18,
   "id": "95dd9f49-ba29-4e9c-a2d2-616fde2a4270",
   "metadata": {},
   "outputs": [
    {
     "name": "stderr",
     "output_type": "stream",
     "text": [
      "[Stage 6:>                                                          (0 + 1) / 1]\r"
     ]
    },
    {
     "name": "stdout",
     "output_type": "stream",
     "text": [
      "+-------+------------------+-------+\n",
      "|summary|               age|   name|\n",
      "+-------+------------------+-------+\n",
      "|  count|                 2|      3|\n",
      "|   mean|              24.5|   NULL|\n",
      "| stddev|7.7781745930520225|   NULL|\n",
      "|    min|                19|   Andy|\n",
      "|    max|                30|Michael|\n",
      "+-------+------------------+-------+\n",
      "\n"
     ]
    },
    {
     "name": "stderr",
     "output_type": "stream",
     "text": [
      "                                                                                \r"
     ]
    }
   ],
   "source": [
    "df.describe().show()"
   ]
  },
  {
   "cell_type": "markdown",
   "id": "d20fb74f-b59c-45cc-ae32-77c9b3e0286f",
   "metadata": {},
   "source": [
    "### Define Schema"
   ]
  },
  {
   "cell_type": "code",
   "execution_count": 20,
   "id": "7288810d-a2fb-466e-a319-937d0c261441",
   "metadata": {},
   "outputs": [],
   "source": [
    "from pyspark.sql.types import (StructField, StringType, IntegerType, StructType)"
   ]
  },
  {
   "cell_type": "code",
   "execution_count": 25,
   "id": "fdf3867a-c47b-4b1a-8a6e-6847a6ac3163",
   "metadata": {},
   "outputs": [],
   "source": [
    "# A list defining the types of each column in the dataframe\n",
    "# Telling field \"age\" is of type Integer. True means that there can be nulls. False would enforce there being no nulls\n",
    "data_schema = [StructField('age', IntegerType(), True),\n",
    "              StructField('name', StringType(), True)]"
   ]
  },
  {
   "cell_type": "code",
   "execution_count": 26,
   "id": "59da2f6b-6d36-4ada-8da6-ea3046c34725",
   "metadata": {},
   "outputs": [],
   "source": [
    "# Define the final structure\n",
    "final_struct = StructType(fields=data_schema)"
   ]
  },
  {
   "cell_type": "code",
   "execution_count": 27,
   "id": "9c958f9a-a2aa-4540-b44f-0addca984dd1",
   "metadata": {},
   "outputs": [
    {
     "name": "stdout",
     "output_type": "stream",
     "text": [
      "root\n",
      " |-- age: integer (nullable = true)\n",
      " |-- name: string (nullable = true)\n",
      "\n"
     ]
    }
   ],
   "source": [
    "# Now, read in data and use defined schema\n",
    "df = spark.read.json('people.json', final_struct)\n",
    "\n",
    "# Show its schema\n",
    "df.printSchema()"
   ]
  },
  {
   "cell_type": "markdown",
   "id": "7db63400-cbe1-4849-87bc-254158b8eb86",
   "metadata": {},
   "source": [
    "### Get Data"
   ]
  },
  {
   "cell_type": "code",
   "execution_count": 28,
   "id": "01e26867-e457-4c46-b325-b6d6b491fcb1",
   "metadata": {},
   "outputs": [
    {
     "data": {
      "text/plain": [
       "DataFrame[age: int]"
      ]
     },
     "execution_count": 28,
     "metadata": {},
     "output_type": "execute_result"
    }
   ],
   "source": [
    "# Grab column\n",
    "df.select('age')"
   ]
  },
  {
   "cell_type": "code",
   "execution_count": 29,
   "id": "11f8f7dc-2be1-46a6-befd-464c315c1ca2",
   "metadata": {},
   "outputs": [
    {
     "name": "stdout",
     "output_type": "stream",
     "text": [
      "+----+\n",
      "| age|\n",
      "+----+\n",
      "|NULL|\n",
      "|  30|\n",
      "|  19|\n",
      "+----+\n",
      "\n"
     ]
    }
   ],
   "source": [
    "# Show single column\n",
    "df.select('age').show()"
   ]
  },
  {
   "cell_type": "code",
   "execution_count": 30,
   "id": "d2735b12-1196-48a6-84d4-897011ea79a3",
   "metadata": {},
   "outputs": [
    {
     "data": {
      "text/plain": [
       "[Row(age=None, name='Michael'), Row(age=30, name='Andy')]"
      ]
     },
     "execution_count": 30,
     "metadata": {},
     "output_type": "execute_result"
    }
   ],
   "source": [
    "# First two head of dataframe - list of row objects\n",
    "df.head(2)"
   ]
  },
  {
   "cell_type": "code",
   "execution_count": 31,
   "id": "98a86f2a-3996-433a-848d-bbc12b3b46ab",
   "metadata": {},
   "outputs": [
    {
     "data": {
      "text/plain": [
       "DataFrame[age: int, name: string]"
      ]
     },
     "execution_count": 31,
     "metadata": {},
     "output_type": "execute_result"
    }
   ],
   "source": [
    "# Get list of columns\n",
    "df.select(['age', 'name'])"
   ]
  },
  {
   "cell_type": "code",
   "execution_count": 35,
   "id": "90b05c32-c6f8-4c43-9683-fd9e29d897da",
   "metadata": {},
   "outputs": [
    {
     "name": "stdout",
     "output_type": "stream",
     "text": [
      "+----+-------+----------+\n",
      "| age|   name|double_age|\n",
      "+----+-------+----------+\n",
      "|NULL|Michael|      NULL|\n",
      "|  30|   Andy|        60|\n",
      "|  19| Justin|        38|\n",
      "+----+-------+----------+\n",
      "\n"
     ]
    }
   ],
   "source": [
    "# Add column - returns new dataframe by adding or replacing existing column. Not in-place\n",
    "df.withColumn('double_age', df['age'] * 2).show()"
   ]
  },
  {
   "cell_type": "code",
   "execution_count": 39,
   "id": "b63aa9ab-bf99-4754-89cb-c71686826471",
   "metadata": {
    "scrolled": true
   },
   "outputs": [
    {
     "name": "stdout",
     "output_type": "stream",
     "text": [
      "+----+-------+\n",
      "| Age|   name|\n",
      "+----+-------+\n",
      "|NULL|Michael|\n",
      "|  30|   Andy|\n",
      "|  19| Justin|\n",
      "+----+-------+\n",
      "\n"
     ]
    }
   ],
   "source": [
    "# Rename column - not in place\n",
    "df.withColumnRenamed('age', 'Age').show()"
   ]
  },
  {
   "cell_type": "markdown",
   "id": "e5bbc520-26d6-4042-8fe0-a2b500e38098",
   "metadata": {},
   "source": [
    "### Using pure SQL"
   ]
  },
  {
   "cell_type": "code",
   "execution_count": 40,
   "id": "14aafcd5-af78-41f8-b637-4f2140e9e069",
   "metadata": {},
   "outputs": [],
   "source": [
    "# Register dataframe as temporary view\n",
    "df.createOrReplaceTempView('people')"
   ]
  },
  {
   "cell_type": "code",
   "execution_count": 41,
   "id": "e282bc78-2eb0-4d71-a28f-e70152930562",
   "metadata": {},
   "outputs": [
    {
     "name": "stdout",
     "output_type": "stream",
     "text": [
      "+----+-------+\n",
      "| age|   name|\n",
      "+----+-------+\n",
      "|NULL|Michael|\n",
      "|  30|   Andy|\n",
      "|  19| Justin|\n",
      "+----+-------+\n",
      "\n"
     ]
    }
   ],
   "source": [
    "# now can query temporary view!\n",
    "results = spark.sql(\"SELECT * FROM people\")\n",
    "results.show()"
   ]
  },
  {
   "cell_type": "code",
   "execution_count": 45,
   "id": "096931e3-abce-4b67-b65d-f33f04816593",
   "metadata": {},
   "outputs": [
    {
     "name": "stdout",
     "output_type": "stream",
     "text": [
      "+---+----+\n",
      "|age|name|\n",
      "+---+----+\n",
      "| 30|Andy|\n",
      "+---+----+\n",
      "\n"
     ]
    }
   ],
   "source": [
    "query = \"SELECT * FROM people WHERE name = 'Andy'\"\n",
    "new_results = spark.sql(query)\n",
    "new_results.show()"
   ]
  }
 ],
 "metadata": {
  "kernelspec": {
   "display_name": "Python 3 (ipykernel)",
   "language": "python",
   "name": "python3"
  },
  "language_info": {
   "codemirror_mode": {
    "name": "ipython",
    "version": 3
   },
   "file_extension": ".py",
   "mimetype": "text/x-python",
   "name": "python",
   "nbconvert_exporter": "python",
   "pygments_lexer": "ipython3",
   "version": "3.12.3"
  }
 },
 "nbformat": 4,
 "nbformat_minor": 5
}
